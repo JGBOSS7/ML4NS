{
 "cells": [
  {
   "cell_type": "code",
   "execution_count": 1,
   "id": "d7a26bd5",
   "metadata": {},
   "outputs": [],
   "source": [
    "import pandas as pd\n",
    "import numpy as np\n",
    "from tqdm import tqdm"
   ]
  },
  {
   "cell_type": "code",
   "execution_count": 2,
   "id": "1d6a42ed",
   "metadata": {},
   "outputs": [],
   "source": [
    "mat_df = pd.read_csv('../datasets/drug_drug_matrix.csv')\n",
    "druglist = pd.read_csv('../datasets/description about features/drug_list.txt', sep=' ')"
   ]
  },
  {
   "cell_type": "code",
   "execution_count": 3,
   "id": "5ae35e7e",
   "metadata": {},
   "outputs": [],
   "source": [
    "druglist = druglist['DBid'].values"
   ]
  },
  {
   "cell_type": "code",
   "execution_count": 4,
   "id": "4299884c",
   "metadata": {},
   "outputs": [],
   "source": [
    "CIDs = mat_df.columns.values[1:]"
   ]
  },
  {
   "cell_type": "code",
   "execution_count": 5,
   "id": "b4b1c407",
   "metadata": {},
   "outputs": [],
   "source": [
    "CIDs = [int(i.replace('CID','') )for i in CIDs]"
   ]
  },
  {
   "cell_type": "code",
   "execution_count": 6,
   "id": "bfd11fc0",
   "metadata": {},
   "outputs": [],
   "source": [
    "mat = mat_df.values[:, 1:]"
   ]
  },
  {
   "cell_type": "code",
   "execution_count": 7,
   "id": "06501328",
   "metadata": {},
   "outputs": [
    {
     "name": "stderr",
     "output_type": "stream",
     "text": [
      "100%|██████████| 548/548 [00:00<00:00, 2666.17it/s]\n"
     ]
    }
   ],
   "source": [
    "edges = []\n",
    "for i in tqdm(range(len(CIDs))):\n",
    "    for j in range(i, len(CIDs)):\n",
    "        if i != j :\n",
    "            edges.append(np.array([i, j, mat[i][j]]))\n",
    "edges = np.array(edges)        "
   ]
  },
  {
   "cell_type": "code",
   "execution_count": 8,
   "id": "19bc0526",
   "metadata": {},
   "outputs": [
    {
     "data": {
      "text/plain": [
       "'DB00945'"
      ]
     },
     "execution_count": 8,
     "metadata": {},
     "output_type": "execute_result"
    }
   ],
   "source": [
    "druglist[0]"
   ]
  },
  {
   "cell_type": "code",
   "execution_count": 35,
   "id": "268a6c71",
   "metadata": {},
   "outputs": [],
   "source": [
    "db = pd.read_csv('../datasets/dbsmiles.csv')"
   ]
  },
  {
   "cell_type": "code",
   "execution_count": 38,
   "id": "bd954fb0",
   "metadata": {},
   "outputs": [],
   "source": [
    "def returnsmiles(dbid):\n",
    "    a = db.loc[db['drugbank_id'] == dbid]\n",
    "    print(list(a))\n",
    "    return list(a['smiles'])[0]"
   ]
  },
  {
   "cell_type": "code",
   "execution_count": null,
   "id": "39273216",
   "metadata": {},
   "outputs": [],
   "source": [
    "\n",
    "a = db['drugbank_id'].values\n",
    "final_edges = []\n",
    "for i in tqdm(edges):\n",
    "    d1 = i[0]\n",
    "    d2 = i[1]\n",
    "    if druglist[d1] in a:\n",
    "        if druglist[d2] in a:\n",
    "            final_edges.append([returnsmiles(druglist[d1]), \n",
    "                                returnsmiles(druglist[d2]),\n",
    "                                i[2]])\n",
    "        \n",
    "    "
   ]
  },
  {
   "cell_type": "code",
   "execution_count": null,
   "id": "4b019bf1",
   "metadata": {},
   "outputs": [],
   "source": [
    "final_edges"
   ]
  },
  {
   "cell_type": "code",
   "execution_count": null,
   "id": "489f364d",
   "metadata": {},
   "outputs": [],
   "source": [
    "final_edges = np.array(final_edges)"
   ]
  },
  {
   "cell_type": "code",
   "execution_count": null,
   "id": "709a8f6e",
   "metadata": {},
   "outputs": [],
   "source": [
    "final_edges.dump('../datasets/final_edges.dump')"
   ]
  },
  {
   "cell_type": "code",
   "execution_count": 10,
   "id": "651f5a65",
   "metadata": {},
   "outputs": [],
   "source": [
    "final_edges = np.load('../datasets/final_edges.dump', allow_pickle=True)"
   ]
  },
  {
   "cell_type": "code",
   "execution_count": 11,
   "id": "2a5d075f",
   "metadata": {},
   "outputs": [],
   "source": [
    "from rdkit.Chem import AllChem"
   ]
  },
  {
   "cell_type": "code",
   "execution_count": 18,
   "id": "1b039783",
   "metadata": {},
   "outputs": [],
   "source": [
    "from rdkit import Chem\n",
    "import rdkit"
   ]
  },
  {
   "cell_type": "code",
   "execution_count": 47,
   "id": "9da25dc4",
   "metadata": {},
   "outputs": [],
   "source": [
    "m = Chem.MolFromSmiles('NCC1(CC(O)=O)CCCCC1')"
   ]
  },
  {
   "cell_type": "code",
   "execution_count": 48,
   "id": "9425eeee",
   "metadata": {},
   "outputs": [],
   "source": [
    "fp1 = rdkit.Chem.RDKFingerprint(m, maxPath=7,fpSize=512)"
   ]
  },
  {
   "cell_type": "code",
   "execution_count": 42,
   "id": "4b705c6c",
   "metadata": {},
   "outputs": [
    {
     "data": {
      "text/plain": [
       "array([['CC(=O)OC1=CC=CC=C1C(O)=O', 'NCC1(CC(O)=O)CCCCC1', '1'],\n",
       "       ['CC(=O)OC1=CC=CC=C1C(O)=O',\n",
       "        'CNS(=O)(=O)CCC1=CC2=C(NC=C2C2CCN(C)CC2)C=C1', '0'],\n",
       "       ['CC(=O)OC1=CC=CC=C1C(O)=O',\n",
       "        'COC1=C(OC)C(CS(=O)C2=NC3=C(N2)C=C(OC(F)F)C=C3)=NC=C1', '1'],\n",
       "       ...,\n",
       "       ['CCN[C@H]1CN(CCCOC)S(=O)(=O)C2=C1C=C(S2)S(N)(=O)=O',\n",
       "        '[H][C@@]12CO[C@@]3(COS(N)(=O)=O)OC(C)(C)O[C@@]3([H])[C@]1([H])OC(C)(C)O2',\n",
       "        '0'],\n",
       "       ['CCN[C@H]1CN(CCCOC)S(=O)(=O)C2=C1C=C(S2)S(N)(=O)=O',\n",
       "        'NCCCC(O)=O', '0'],\n",
       "       ['[H][C@@]12CO[C@@]3(COS(N)(=O)=O)OC(C)(C)O[C@@]3([H])[C@]1([H])OC(C)(C)O2',\n",
       "        'NCCCC(O)=O', '0']], dtype='<U285')"
      ]
     },
     "execution_count": 42,
     "metadata": {},
     "output_type": "execute_result"
    }
   ],
   "source": [
    "final_edges"
   ]
  },
  {
   "cell_type": "code",
   "execution_count": 59,
   "id": "b9d33f8e",
   "metadata": {
    "scrolled": true
   },
   "outputs": [
    {
     "name": "stderr",
     "output_type": "stream",
     "text": [
      "100%|██████████| 87153/87153 [06:55<00:00, 209.91it/s]\n"
     ]
    }
   ],
   "source": [
    "data = []\n",
    "for edge in tqdm(final_edges):\n",
    "    mol1 = Chem.MolFromSmiles(edge[0])\n",
    "    mol2 = Chem.MolFromSmiles(edge[1])\n",
    "    fp1 = np.array(rdkit.Chem.RDKFingerprint(mol1, maxPath=7, fpSize=512), dtype=object)\n",
    "    fp2 = np.array(rdkit.Chem.RDKFingerprint(mol2, maxPath=7, fpSize=512), dtype=object)\n",
    "    data.append(np.array([fp1,fp2,edge[2]], dtype=object))\n",
    "data = np.array(data)"
   ]
  },
  {
   "cell_type": "code",
   "execution_count": 62,
   "id": "91c51795",
   "metadata": {},
   "outputs": [],
   "source": [
    "data.dump('fingerprint_data.dump')"
   ]
  },
  {
   "cell_type": "code",
   "execution_count": 64,
   "id": "c65be282",
   "metadata": {},
   "outputs": [
    {
     "data": {
      "text/plain": [
       "(87153, 3)"
      ]
     },
     "execution_count": 64,
     "metadata": {},
     "output_type": "execute_result"
    }
   ],
   "source": [
    "data.shape"
   ]
  },
  {
   "cell_type": "code",
   "execution_count": 65,
   "id": "98afe4a1",
   "metadata": {},
   "outputs": [
    {
     "name": "stderr",
     "output_type": "stream",
     "text": [
      "100%|██████████| 87153/87153 [00:00<00:00, 137558.86it/s]\n"
     ]
    }
   ],
   "source": [
    "X = []\n",
    "y = []\n",
    "for i in tqdm(data):\n",
    "    X.append(np.concatenate((i[0],i[1]), axis = None))\n",
    "    y.append(i[2])"
   ]
  },
  {
   "cell_type": "code",
   "execution_count": 68,
   "id": "107fa980",
   "metadata": {},
   "outputs": [],
   "source": [
    "X = np.array(X)\n",
    "y = np.array(y)"
   ]
  },
  {
   "cell_type": "code",
   "execution_count": 69,
   "id": "97a77a19",
   "metadata": {},
   "outputs": [
    {
     "data": {
      "text/plain": [
       "(87153, 1024)"
      ]
     },
     "execution_count": 69,
     "metadata": {},
     "output_type": "execute_result"
    }
   ],
   "source": [
    "X.shape"
   ]
  },
  {
   "cell_type": "code",
   "execution_count": 70,
   "id": "804e942a",
   "metadata": {},
   "outputs": [
    {
     "data": {
      "text/plain": [
       "(87153,)"
      ]
     },
     "execution_count": 70,
     "metadata": {},
     "output_type": "execute_result"
    }
   ],
   "source": [
    "y.shape"
   ]
  },
  {
   "cell_type": "code",
   "execution_count": 71,
   "id": "a59929bd",
   "metadata": {},
   "outputs": [],
   "source": [
    "from sklearn.model_selection import train_test_split\n",
    "X_train, X_test, y_train, y_test = train_test_split(X, y, test_size = 0.2, random_state = 42)"
   ]
  },
  {
   "cell_type": "code",
   "execution_count": 72,
   "id": "71310acd",
   "metadata": {},
   "outputs": [],
   "source": [
    "from sklearn.ensemble import RandomForestClassifier\n",
    "reg_rf = RandomForestClassifier()\n",
    "reg_rf.fit(X_train, y_train)\n",
    "y_pred = reg_rf.predict(X_test)"
   ]
  },
  {
   "cell_type": "code",
   "execution_count": 74,
   "id": "50cd5c75",
   "metadata": {},
   "outputs": [],
   "source": [
    "from sklearn import metrics"
   ]
  },
  {
   "cell_type": "code",
   "execution_count": 75,
   "id": "909be198",
   "metadata": {},
   "outputs": [
    {
     "name": "stdout",
     "output_type": "stream",
     "text": [
      "              precision    recall  f1-score   support\n",
      "\n",
      "           0       0.83      0.90      0.86     11650\n",
      "           1       0.76      0.62      0.68      5781\n",
      "\n",
      "    accuracy                           0.81     17431\n",
      "   macro avg       0.79      0.76      0.77     17431\n",
      "weighted avg       0.80      0.81      0.80     17431\n",
      "\n"
     ]
    }
   ],
   "source": [
    "print(metrics.classification_report(y_test, y_pred))"
   ]
  },
  {
   "cell_type": "code",
   "execution_count": null,
   "id": "e0f98f90",
   "metadata": {},
   "outputs": [],
   "source": [
    "print(\"roc_auc_score: \", metrics.roc_auc_score(y_test, y_pred))\n",
    "print(\"f1 score: \", metrics.f1_score(y_test, y_pred))"
   ]
  },
  {
   "cell_type": "code",
   "execution_count": null,
   "id": "40b91c73",
   "metadata": {},
   "outputs": [],
   "source": [
    "from sklearn.svm import SVC\n",
    "reg_svc = SVC()\n",
    "reg_svc.fit(X_train, y_train)\n",
    "y_pred = reg_svc.predict(X_test)\n",
    "print(metrics.classification_report(y_test, y_pred))\n"
   ]
  },
  {
   "cell_type": "code",
   "execution_count": null,
   "id": "7d123d6a",
   "metadata": {},
   "outputs": [],
   "source": [
    "print(\"roc_auc_score: \", metrics.roc_auc_score(y_test, y_pred))\n",
    "print(\"f1 score: \", metrics.f1_score(y_test, y_pred))"
   ]
  },
  {
   "cell_type": "code",
   "execution_count": null,
   "id": "4d33ed47",
   "metadata": {},
   "outputs": [],
   "source": []
  },
  {
   "cell_type": "code",
   "execution_count": null,
   "id": "96a8c1fd",
   "metadata": {},
   "outputs": [],
   "source": [
    "from sklearn.neighbors import KNeighborsClassifier"
   ]
  },
  {
   "cell_type": "code",
   "execution_count": null,
   "id": "7efcff91",
   "metadata": {},
   "outputs": [],
   "source": [
    "reg_knn = KNeighborsClassifier()\n",
    "reg_knn.fit(X_train, y_train)\n",
    "y_pred = reg_knn.predict(X_test)"
   ]
  },
  {
   "cell_type": "code",
   "execution_count": null,
   "id": "3f2b452d",
   "metadata": {},
   "outputs": [],
   "source": [
    "print(metrics.classification_report(y_test, y_pred))\n"
   ]
  },
  {
   "cell_type": "code",
   "execution_count": null,
   "id": "7f814f78",
   "metadata": {},
   "outputs": [],
   "source": [
    "print(\"roc_auc_score: \", metrics.roc_auc_score(y_test, y_pred))\n",
    "print(\"f1 score: \", metrics.f1_score(y_test, y_pred))"
   ]
  },
  {
   "cell_type": "code",
   "execution_count": null,
   "id": "628a13e9",
   "metadata": {},
   "outputs": [],
   "source": []
  }
 ],
 "metadata": {
  "kernelspec": {
   "display_name": "Python 3",
   "language": "python",
   "name": "python3"
  },
  "language_info": {
   "codemirror_mode": {
    "name": "ipython",
    "version": 3
   },
   "file_extension": ".py",
   "mimetype": "text/x-python",
   "name": "python",
   "nbconvert_exporter": "python",
   "pygments_lexer": "ipython3",
   "version": "3.8.10"
  }
 },
 "nbformat": 4,
 "nbformat_minor": 5
}
