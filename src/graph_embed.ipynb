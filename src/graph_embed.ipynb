{
 "cells": [
  {
   "cell_type": "code",
   "execution_count": 1,
   "id": "402263a8",
   "metadata": {},
   "outputs": [],
   "source": [
    "import pandas as pd\n",
    "import numpy as np\n",
    "from tqdm.auto import tqdm"
   ]
  },
  {
   "cell_type": "code",
   "execution_count": 2,
   "id": "60261d4c",
   "metadata": {},
   "outputs": [],
   "source": [
    "data = np.load('../datasets/final_edges.dump', allow_pickle= True)"
   ]
  },
  {
   "cell_type": "code",
   "execution_count": 3,
   "id": "6a75fe40",
   "metadata": {},
   "outputs": [],
   "source": [
    "smiles = []\n",
    "for i in data:\n",
    "    smiles.append(i[0])\n",
    "    smiles.append(i[1])\n",
    "    "
   ]
  },
  {
   "cell_type": "code",
   "execution_count": 4,
   "id": "65474460",
   "metadata": {},
   "outputs": [],
   "source": [
    "smiles = np.array(list(set(smiles)))"
   ]
  },
  {
   "cell_type": "code",
   "execution_count": 5,
   "id": "eda58e6f",
   "metadata": {},
   "outputs": [],
   "source": [
    "import networkx as nx"
   ]
  },
  {
   "cell_type": "code",
   "execution_count": 6,
   "id": "c9e0cbd0",
   "metadata": {},
   "outputs": [],
   "source": [
    "from karateclub import DeepWalk"
   ]
  },
  {
   "cell_type": "code",
   "execution_count": 7,
   "id": "248b6284",
   "metadata": {},
   "outputs": [],
   "source": [
    "G = nx.Graph()"
   ]
  },
  {
   "cell_type": "code",
   "execution_count": 8,
   "id": "30e13eb8",
   "metadata": {},
   "outputs": [
    {
     "data": {
      "application/vnd.jupyter.widget-view+json": {
       "model_id": "1f2ccfe2db0e4594a92a1963269b1b86",
       "version_major": 2,
       "version_minor": 0
      },
      "text/plain": [
       "  0%|          | 0/87153 [00:00<?, ?it/s]"
      ]
     },
     "metadata": {},
     "output_type": "display_data"
    }
   ],
   "source": [
    "obj = []\n",
    "for i in tqdm(data):\n",
    "    if i[2] == '1':\n",
    "        id1 = np.where\n",
    "        obj.append((np.where(smiles == i[0])[0][0],np.where(smiles == i[1])[0][0]) )"
   ]
  },
  {
   "cell_type": "code",
   "execution_count": 9,
   "id": "9bd851ed",
   "metadata": {},
   "outputs": [],
   "source": [
    "G.add_edges_from(obj)"
   ]
  },
  {
   "cell_type": "code",
   "execution_count": 10,
   "id": "323b5511",
   "metadata": {
    "scrolled": true
   },
   "outputs": [],
   "source": [
    "model = DeepWalk()\n",
    "model.fit(G)\n",
    "embedding = model.get_embedding()"
   ]
  },
  {
   "cell_type": "code",
   "execution_count": 11,
   "id": "ba3af22e",
   "metadata": {},
   "outputs": [],
   "source": [
    "Nodes = np.array(G.nodes())"
   ]
  },
  {
   "cell_type": "code",
   "execution_count": 12,
   "id": "6fbf85d3",
   "metadata": {},
   "outputs": [],
   "source": [
    "from rdkit import Chem\n",
    "import rdkit\n",
    "from rdkit.Chem import AllChem"
   ]
  },
  {
   "cell_type": "code",
   "execution_count": 13,
   "id": "26a255ea",
   "metadata": {},
   "outputs": [
    {
     "data": {
      "application/vnd.jupyter.widget-view+json": {
       "model_id": "81c36657993241cfaee984bffefb9f91",
       "version_major": 2,
       "version_minor": 0
      },
      "text/plain": [
       "  0%|          | 0/87153 [00:00<?, ?it/s]"
      ]
     },
     "metadata": {},
     "output_type": "display_data"
    }
   ],
   "source": [
    "graph_embeds_data = []\n",
    "fingerprint_data = []\n",
    "for i in tqdm(data):\n",
    "    graph_embeds_data.append([\n",
    "                     np.concatenate((embedding[np.where(smiles == i[0])[0][0]], \n",
    "                                     embedding[np.where(smiles == i[1])[0][0]] )), i[2] ])\n",
    "    \n",
    "    mol1 = Chem.MolFromSmiles(i[0])\n",
    "    mol2 = Chem.MolFromSmiles(i[1])\n",
    "    fp1 = np.array(rdkit.Chem.RDKFingerprint(mol1, maxPath=7, fpSize=512), dtype=object)\n",
    "    fp2 = np.array(rdkit.Chem.RDKFingerprint(mol2, maxPath=7, fpSize=512), dtype=object)\n",
    "    fingerprint_data.append([\n",
    "        np.concatenate(( fp1, fp2)), i[2]\n",
    "    ])"
   ]
  },
  {
   "cell_type": "code",
   "execution_count": 21,
   "id": "04821436",
   "metadata": {},
   "outputs": [],
   "source": [
    "fingerprint_data = np.array(fingerprint_data, dtype=object)\n",
    "graph_embeds_data = np.array(graph_embeds_data)"
   ]
  },
  {
   "cell_type": "code",
   "execution_count": 33,
   "id": "177443a6",
   "metadata": {},
   "outputs": [
    {
     "data": {
      "text/plain": [
       "1024"
      ]
     },
     "execution_count": 33,
     "metadata": {},
     "output_type": "execute_result"
    }
   ],
   "source": [
    "len(fingerprint_data[0][0])"
   ]
  },
  {
   "cell_type": "code",
   "execution_count": 25,
   "id": "d83d3319",
   "metadata": {},
   "outputs": [],
   "source": [
    "final_data = []\n",
    "for i in range(len(fingerprint_data)):\n",
    "    final_data.append([np.concatenate((fingerprint_data[i][0], graph_embeds_data[i][0])), fingerprint_data[i][1]])"
   ]
  },
  {
   "cell_type": "code",
   "execution_count": 26,
   "id": "8e25e1fa",
   "metadata": {},
   "outputs": [
    {
     "name": "stderr",
     "output_type": "stream",
     "text": [
      "/home2/kanakala.ganesh/miniconda3/envs/fast/lib/python3.6/site-packages/ipykernel_launcher.py:1: VisibleDeprecationWarning: Creating an ndarray from ragged nested sequences (which is a list-or-tuple of lists-or-tuples-or ndarrays with different lengths or shapes) is deprecated. If you meant to do this, you must specify 'dtype=object' when creating the ndarray\n",
      "  \"\"\"Entry point for launching an IPython kernel.\n"
     ]
    }
   ],
   "source": [
    "final_data = np.array(final_data)"
   ]
  },
  {
   "cell_type": "code",
   "execution_count": 27,
   "id": "792406dc",
   "metadata": {},
   "outputs": [
    {
     "data": {
      "application/vnd.jupyter.widget-view+json": {
       "model_id": "b5cd0cf9c0724c5ea590d4391d86ac5e",
       "version_major": 2,
       "version_minor": 0
      },
      "text/plain": [
       "  0%|          | 0/87153 [00:00<?, ?it/s]"
      ]
     },
     "metadata": {},
     "output_type": "display_data"
    }
   ],
   "source": [
    "X = []\n",
    "y = []\n",
    "for i in tqdm(final_data):\n",
    "    X.append(i[0])\n",
    "    y.append(i[1])"
   ]
  },
  {
   "cell_type": "code",
   "execution_count": 28,
   "id": "522940e9",
   "metadata": {},
   "outputs": [],
   "source": [
    "X = np.array(X)\n",
    "y = np.array(y)"
   ]
  },
  {
   "cell_type": "code",
   "execution_count": 29,
   "id": "96800dcc",
   "metadata": {},
   "outputs": [],
   "source": [
    "from sklearn.model_selection import train_test_split\n",
    "X_train, X_test, y_train, y_test = train_test_split(X, y, test_size = 0.2, random_state = 42)"
   ]
  },
  {
   "cell_type": "code",
   "execution_count": 30,
   "id": "5549480a",
   "metadata": {},
   "outputs": [
    {
     "data": {
      "text/plain": [
       "(69722, 1280)"
      ]
     },
     "execution_count": 30,
     "metadata": {},
     "output_type": "execute_result"
    }
   ],
   "source": [
    "X_train.shape"
   ]
  },
  {
   "cell_type": "code",
   "execution_count": 31,
   "id": "c31cf663",
   "metadata": {},
   "outputs": [
    {
     "data": {
      "text/plain": [
       "(69722,)"
      ]
     },
     "execution_count": 31,
     "metadata": {},
     "output_type": "execute_result"
    }
   ],
   "source": [
    "y_train.shape"
   ]
  },
  {
   "cell_type": "code",
   "execution_count": 34,
   "id": "284d0da1",
   "metadata": {},
   "outputs": [],
   "source": [
    "from sklearn.ensemble import RandomForestClassifier\n",
    "reg_rf = RandomForestClassifier()\n",
    "reg_rf.fit(X_train, y_train)\n",
    "y_pred = reg_rf.predict(X_test)"
   ]
  },
  {
   "cell_type": "code",
   "execution_count": 35,
   "id": "51ba00d2",
   "metadata": {},
   "outputs": [],
   "source": [
    "from sklearn import metrics"
   ]
  },
  {
   "cell_type": "code",
   "execution_count": 36,
   "id": "a8a176a1",
   "metadata": {},
   "outputs": [
    {
     "name": "stdout",
     "output_type": "stream",
     "text": [
      "              precision    recall  f1-score   support\n",
      "\n",
      "           0       0.90      0.94      0.92     11650\n",
      "           1       0.88      0.80      0.84      5781\n",
      "\n",
      "    accuracy                           0.90     17431\n",
      "   macro avg       0.89      0.87      0.88     17431\n",
      "weighted avg       0.90      0.90      0.89     17431\n",
      "\n"
     ]
    }
   ],
   "source": [
    "print(metrics.classification_report(y_test, y_pred))"
   ]
  },
  {
   "cell_type": "code",
   "execution_count": 37,
   "id": "f01113bc",
   "metadata": {},
   "outputs": [
    {
     "name": "stdout",
     "output_type": "stream",
     "text": [
      "roc_auc_score:  0.8710804596677142\n"
     ]
    },
    {
     "name": "stderr",
     "output_type": "stream",
     "text": [
      "/home2/kanakala.ganesh/miniconda3/envs/fast/lib/python3.6/site-packages/sklearn/utils/validation.py:63: FutureWarning: Arrays of bytes/strings is being converted to decimal numbers if dtype='numeric'. This behavior is deprecated in 0.24 and will be removed in 1.1 (renaming of 0.26). Please convert your data to numeric values explicitly instead.\n",
      "  return f(*args, **kwargs)\n"
     ]
    }
   ],
   "source": [
    "print(\"roc_auc_score: \", metrics.roc_auc_score(y_test, y_pred))\n"
   ]
  },
  {
   "cell_type": "code",
   "execution_count": 38,
   "id": "e514a68a",
   "metadata": {},
   "outputs": [
    {
     "name": "stdout",
     "output_type": "stream",
     "text": [
      "f1 score:  0.8355233348436791\n"
     ]
    }
   ],
   "source": [
    "print(\"f1 score: \", metrics.f1_score(y_test, y_pred , pos_label='1'))"
   ]
  },
  {
   "cell_type": "code",
   "execution_count": 39,
   "id": "568fe2a6",
   "metadata": {},
   "outputs": [
    {
     "data": {
      "text/plain": [
       "<sklearn.metrics._plot.confusion_matrix.ConfusionMatrixDisplay at 0x7f0898d709e8>"
      ]
     },
     "execution_count": 39,
     "metadata": {},
     "output_type": "execute_result"
    },
    {
     "data": {
      "image/png": "[encoded data removed]",
      "text/plain": [
       "<Figure size 432x288 with 2 Axes>"
      ]
     },
     "metadata": {
      "needs_background": "light"
     },
     "output_type": "display_data"
    }
   ],
   "source": [
    "metrics.plot_confusion_matrix(reg_rf, X_test, y_test)"
   ]
  },
  {
   "cell_type": "code",
   "execution_count": null,
   "id": "52bcf6fc",
   "metadata": {},
   "outputs": [],
   "source": []
  },
  {
   "cell_type": "code",
   "execution_count": null,
   "id": "8bbfde2f",
   "metadata": {},
   "outputs": [],
   "source": []
  }
 ],
 "metadata": {
  "kernelspec": {
   "display_name": "Python 3",
   "language": "python",
   "name": "python3"
  },
  "language_info": {
   "codemirror_mode": {
    "name": "ipython",
    "version": 3
   },
   "file_extension": ".py",
   "mimetype": "text/x-python",
   "name": "python",
   "nbconvert_exporter": "python",
   "pygments_lexer": "ipython3",
   "version": "3.6.13"
  }
 },
 "nbformat": 4,
 "nbformat_minor": 5
}
