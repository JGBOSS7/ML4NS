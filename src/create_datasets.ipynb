{
 "cells": [
  {
   "cell_type": "code",
   "execution_count": 1,
   "id": "cd679765",
   "metadata": {},
   "outputs": [
    {
     "name": "stderr",
     "output_type": "stream",
     "text": [
      "/home/jai/envs/ml4ns/lib/python3.10/site-packages/tqdm/auto.py:22: TqdmWarning: IProgress not found. Please update jupyter and ipywidgets. See https://ipywidgets.readthedocs.io/en/stable/user_install.html\n",
      "  from .autonotebook import tqdm as notebook_tqdm\n"
     ]
    }
   ],
   "source": [
    "import rdkit\n",
    "from rdkit import Chem\n",
    "from tqdm.auto import tqdm\n",
    "import numpy as np\n",
    "import pandas as pd\n",
    "import networkx as nx\n",
    "import karateclub\n",
    "from karateclub import DeepWalk\n",
    "from karateclub import Graph2Vec\n",
    "from node2vec import Node2Vec\n",
    "from node2vec.edges import HadamardEmbedder, AverageEmbedder\n"
   ]
  },
  {
   "cell_type": "code",
   "execution_count": 2,
   "id": "7a70e564",
   "metadata": {},
   "outputs": [],
   "source": [
    "def generate_fingerprints(final_edges, fingerprint='RDKIT', graphembed='Deepwalk'):\n",
    "    \n",
    "\n",
    "    \n",
    "\n",
    "    smiles = []\n",
    "    for i in final_edges:\n",
    "        smiles.append(i[0])\n",
    "        smiles.append(i[1])\n",
    "    smiles = np.array(list(set(smiles)))\n",
    "    obj = []\n",
    "    for i in tqdm(final_edges):\n",
    "        if i[2] == '1':\n",
    "            obj.append((np.where(smiles == i[0])[0][0],np.where(smiles == i[1])[0][0]) )\n",
    "\n",
    "#     graph embeds using deepwalk\n",
    "\n",
    "    G = nx.Graph()\n",
    "    G.add_edges_from(obj)\n",
    "    graph_embeds_data = []\n",
    "    \n",
    "    if graphembed == 'Deepwalk':\n",
    "\n",
    "        model = DeepWalk()\n",
    "        model.fit(G)\n",
    "        embedding = model.get_embedding()\n",
    "\n",
    "        for i in tqdm(final_edges):\n",
    "            graph_embeds_data.append(np.array([ embedding[np.where(smiles == i[0])[0][0]], \n",
    "                                        embedding[np.where(smiles == i[1])[0][0]], \n",
    "                                        i[2] ]))\n",
    "\n",
    "# graph embeds using node2vec\n",
    "    edge_embeds = []\n",
    "    if graphembed == 'node2vec':\n",
    "        node2vec = Node2Vec(G, dimensions=128, walk_length=30, num_walks=200, workers=4)\n",
    "        model = node2vec.fit(window=10, min_count=1, batch_words=4) \n",
    "        edges_embs = HadamardEmbedder(keyed_vectors=model.wv)\n",
    "        edges_kv = edges_embs.as_keyed_vectors()\n",
    "\n",
    "        for edge in final_edges:\n",
    "            smi1 = np.where(smiles == edge[0])[0][0]\n",
    "            smi2 = np.where(smiles == edge[1])[0][0]\n",
    "            edge_embeds.append(edges_embs[(str(smi1),str(smi2))])\n",
    "\n",
    "    graph_to_vec_embeds = []\n",
    "    if graphembed == 'graph2vec':\n",
    "        for edge in tqdm(final_edges):\n",
    "            mol1 = Chem.MolFromSmiles(edge[0])\n",
    "            mol2 = Chem.MolFromSmiles(edge[1])\n",
    "            G1 = nx.Graph()\n",
    "            G2 = nx.Graph()\n",
    "            for atom in mol1.GetAtoms():\n",
    "                G1.add_node(atom.GetIdx(), atomic_num=atom.GetAtomicNum(), is_aromatic=atom.GetIsAromatic(), atom_symbol=atom.GetSymbol())\n",
    "        \n",
    "            for bond in mol1.GetBonds():\n",
    "                G1.add_edge(bond.GetBeginAtomIdx(), bond.GetEndAtomIdx(), bond_type=bond.GetBondType())\n",
    "            \n",
    "            for atom in mol2.GetAtoms():\n",
    "                G2.add_node(atom.GetIdx(), atomic_num=atom.GetAtomicNum(), is_aromatic=atom.GetIsAromatic(), atom_symbol=atom.GetSymbol())\n",
    "        \n",
    "            for bond in mol2.GetBonds():\n",
    "                G2.add_edge(bond.GetBeginAtomIdx(), bond.GetEndAtomIdx(), bond_type=bond.GetBondType())\n",
    "        \n",
    "            model = Graph2Vec()\n",
    "            model.fit([G1])\n",
    "            G1_graph2vec = model.get_embedding()\n",
    "            G1_graph2vec = np.array(G1_graph2vec[0])\n",
    "            \n",
    "            model = Graph2Vec()\n",
    "            model.fit([G2])\n",
    "            G2_graph2vec = model.get_embedding()\n",
    "            G2_graph2vec = np.array(G2_graph2vec[0])\n",
    "            \n",
    "            graph_to_vec_embeds.append(np.array([G1_graph2vec,G2_graph2vec,edge[2]]))\n",
    "#     finger prints using normal rdkit\n",
    "    if fingerprint == 'RDKIT':\n",
    "        data = []\n",
    "        for edge in tqdm(final_edges):\n",
    "            mol1 = Chem.MolFromSmiles(edge[0])\n",
    "            mol2 = Chem.MolFromSmiles(edge[1])\n",
    "            fp1 = np.array(rdkit.Chem.RDKFingerprint(mol1, maxPath=7, fpSize=512), dtype=object)\n",
    "            fp2 = np.array(rdkit.Chem.RDKFingerprint(mol2, maxPath=7, fpSize=512), dtype=object)\n",
    "            data.append(np.array([fp1,fp2,edge[2]], dtype=object))\n",
    "    \n",
    "        finger_print_data = np.array(data)\n",
    "        \n",
    "        \n",
    "    if fingerprint == 'MORGAN':\n",
    "        data = []\n",
    "        for edge in tqdm(final_edges):\n",
    "            mol1 = Chem.MolFromSmiles(edge[0])\n",
    "            mol2 = Chem.MolFromSmiles(edge[1])\n",
    "            fp1 = np.asarray(rdkit.Chem.AllChem.GetMorganFingerprintAsBitVect(mol1, radius=3, nBits=64), dtype=object)\n",
    "            fp2 = np.asarray(rdkit.Chem.AllChem.GetMorganFingerprintAsBitVect(mol2, radius=3, nBits=64), dtype=object)\n",
    "            data.append(np.array([fp1,fp2,edge[2]], dtype=object))\n",
    "        \n",
    "        finger_print_data = np.array(data)\n",
    "        \n",
    "#     final data   \n",
    "    data = {}\n",
    "    val = None\n",
    "    val2= None\n",
    "    for i, edge in tqdm(enumerate(final_edges)):\n",
    "        #if fingerprint == 'RDKIT':\n",
    "        val = finger_print_data[i][:2]\n",
    "        \n",
    "        if graphembed == 'Deepwalk':\n",
    "            val2 = graph_embeds_data[i][:2]\n",
    "        \n",
    "        if graphembed == 'node2vec':\n",
    "            val2 = edge_embeds[i]\n",
    "            \n",
    "        if graphembed == 'graph2vec':\n",
    "            val2 = graph_to_vec_embeds[i]\n",
    "            \n",
    "        sample = {'smiles':final_edges[i][:2],\n",
    "                  'fingerprint': val,\n",
    "                  'graphembedding':val2 ,\n",
    "                  'link':final_edges[i][2]}\n",
    "        \n",
    "        data[i] = sample\n",
    "    \n",
    "    return data   "
   ]
  },
  {
   "cell_type": "code",
   "execution_count": 5,
   "id": "849b2202",
   "metadata": {},
   "outputs": [],
   "source": [
    "final_edges = np.load('../datasets/final_edges.dump', allow_pickle=True)"
   ]
  },
  {
   "cell_type": "code",
   "execution_count": 6,
   "id": "7acb730b",
   "metadata": {},
   "outputs": [
    {
     "data": {
      "application/vnd.jupyter.widget-view+json": {
       "model_id": "e1484058f4344a93b5c3d49dbb6fbc5c",
       "version_major": 2,
       "version_minor": 0
      },
      "text/plain": [
       "  0%|          | 0/87153 [00:00<?, ?it/s]"
      ]
     },
     "metadata": {},
     "output_type": "display_data"
    },
    {
     "data": {
      "application/vnd.jupyter.widget-view+json": {
       "model_id": "24223d46332f43e691ea28f7b3dae6ab",
       "version_major": 2,
       "version_minor": 0
      },
      "text/plain": [
       "Computing transition probabilities:   0%|          | 0/418 [00:00<?, ?it/s]"
      ]
     },
     "metadata": {},
     "output_type": "display_data"
    },
    {
     "name": "stderr",
     "output_type": "stream",
     "text": [
      "Generating edge features: 100%|██████████| 87571/87571.0 [00:00<00:00, 203885.32it/s]\n"
     ]
    },
    {
     "data": {
      "application/vnd.jupyter.widget-view+json": {
       "model_id": "986318e00d1e4905b22a22b752eb45b4",
       "version_major": 2,
       "version_minor": 0
      },
      "text/plain": [
       "  0%|          | 0/87153 [00:00<?, ?it/s]"
      ]
     },
     "metadata": {},
     "output_type": "display_data"
    },
    {
     "data": {
      "application/vnd.jupyter.widget-view+json": {
       "model_id": "e996c3f2456b4b65907ce4ddef1920e4",
       "version_major": 2,
       "version_minor": 0
      },
      "text/plain": [
       "0it [00:00, ?it/s]"
      ]
     },
     "metadata": {},
     "output_type": "display_data"
    }
   ],
   "source": [
    "data = generate_fingerprints(final_edges, graphembed='node2vec')"
   ]
  },
  {
   "cell_type": "code",
   "execution_count": 34,
   "id": "5ae5d2a7",
   "metadata": {},
   "outputs": [],
   "source": [
    "a = data[0]['graphembedding']"
   ]
  },
  {
   "cell_type": "code",
   "execution_count": 30,
   "id": "f3ca8625",
   "metadata": {},
   "outputs": [
    {
     "data": {
      "text/plain": [
       "array([0.0610585 , 0.01124409], dtype=float32)"
      ]
     },
     "execution_count": 30,
     "metadata": {},
     "output_type": "execute_result"
    }
   ],
   "source": [
    "a"
   ]
  },
  {
   "cell_type": "code",
   "execution_count": 35,
   "id": "99bba361",
   "metadata": {},
   "outputs": [],
   "source": [
    "import torch\n",
    "from torch.utils.data import Dataset, DataLoader"
   ]
  },
  {
   "cell_type": "code",
   "execution_count": 44,
   "id": "adc6a734",
   "metadata": {},
   "outputs": [],
   "source": [
    "class LinkDataset(Dataset):\n",
    "    def __init__(self, data,  graphembed='Deepwalk', transform=None):\n",
    "        self.data = data\n",
    "        self.graphembed = graphembed\n",
    "        \n",
    "    def __len__(self):\n",
    "        return len(self.data)\n",
    "    \n",
    "    def __getitem__(self, idx):\n",
    "        item = self.data[idx]\n",
    "        fingerprints = np.concatenate((item['fingerprint'][0], item['fingerprint'][1]), axis = 0)\n",
    "        if self.graphembed == 'Deepwalk':\n",
    "            graphembeds = np.concatenate((item['graphembedding'][0], item['graphembedding'][1]), axis = 0)\n",
    "        \n",
    "        if self.graphembed == 'node2vec':\n",
    "            graphembeds = item['graphembedding']\n",
    "                \n",
    "        label = int(item['link'])\n",
    "        fp, ge= torch.tensor(fingerprints.astype(float)), torch.tensor(graphembeds.astype(float))\n",
    "        l= torch.zeros(2)\n",
    "        l[label] = 1\n",
    "        return fp.unsqueeze(0), ge.unsqueeze(0), l"
   ]
  },
  {
   "cell_type": "code",
   "execution_count": 45,
   "id": "5c3184b1",
   "metadata": {},
   "outputs": [],
   "source": [
    "dataset = LinkDataset(data, graphembed='node2vec')\n",
    "dataloader = DataLoader(dataset, num_workers = 4, batch_size=32)"
   ]
  },
  {
   "cell_type": "code",
   "execution_count": 46,
   "id": "74286ac6",
   "metadata": {},
   "outputs": [
    {
     "name": "stdout",
     "output_type": "stream",
     "text": [
      "torch.Size([32, 1, 1024])\n",
      "torch.Size([32, 1, 128])\n",
      "torch.Size([32, 2])\n"
     ]
    }
   ],
   "source": [
    "for fp, ge, label in dataloader:\n",
    "    print(fp.shape)\n",
    "    print(ge.shape)\n",
    "    print(label.shape)\n",
    "    break"
   ]
  },
  {
   "cell_type": "code",
   "execution_count": null,
   "id": "b3234860",
   "metadata": {},
   "outputs": [],
   "source": []
  },
  {
   "cell_type": "code",
   "execution_count": null,
   "id": "c7a2aa1c",
   "metadata": {},
   "outputs": [],
   "source": []
  }
 ],
 "metadata": {
  "kernelspec": {
   "display_name": "Python 3 (ipykernel)",
   "language": "python",
   "name": "python3"
  },
  "language_info": {
   "codemirror_mode": {
    "name": "ipython",
    "version": 3
   },
   "file_extension": ".py",
   "mimetype": "text/x-python",
   "name": "python",
   "nbconvert_exporter": "python",
   "pygments_lexer": "ipython3",
   "version": "3.10.4"
  }
 },
 "nbformat": 4,
 "nbformat_minor": 5
}
