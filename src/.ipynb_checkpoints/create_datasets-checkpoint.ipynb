{
 "cells": [
  {
   "cell_type": "code",
   "execution_count": 3,
   "id": "cd679765",
   "metadata": {},
   "outputs": [],
   "source": [
    "import rdkit\n",
    "from rdkit import Chem\n",
    "from tqdm.auto import tqdm\n",
    "import numpy as np\n",
    "import pandas as pd\n",
    "import networkx as nx\n",
    "import karateclub\n",
    "from karateclub import DeepWalk\n",
    "from node2vec import Node2Vec\n",
    "from node2vec.edges import HadamardEmbedder, AverageEmbedder\n"
   ]
  },
  {
   "cell_type": "code",
   "execution_count": 4,
   "id": "7a70e564",
   "metadata": {},
   "outputs": [],
   "source": [
    "def generate_fingerprints(final_edges, fingerprint='RDKIT', graphembed='Deepwalk'):\n",
    "    \n",
    "#     finger prints using normal rdkit\n",
    "    data = []\n",
    "    for edge in tqdm(final_edges):\n",
    "        mol1 = Chem.MolFromSmiles(edge[0])\n",
    "        mol2 = Chem.MolFromSmiles(edge[1])\n",
    "        fp1 = np.array(rdkit.Chem.RDKFingerprint(mol1, maxPath=7, fpSize=512), dtype=object)\n",
    "        fp2 = np.array(rdkit.Chem.RDKFingerprint(mol2, maxPath=7, fpSize=512), dtype=object)\n",
    "        data.append(np.array([fp1,fp2,edge[2]], dtype=object))\n",
    "    \n",
    "    finger_print_data = np.array(data)\n",
    "    \n",
    "\n",
    "    smiles = []\n",
    "    for i in final_edges:\n",
    "        smiles.append(i[0])\n",
    "        smiles.append(i[1])\n",
    "    smiles = np.array(list(set(smiles)))\n",
    "    obj = []\n",
    "    for i in tqdm(final_edges):\n",
    "        if i[2] == '1':\n",
    "            obj.append((np.where(smiles == i[0])[0][0],np.where(smiles == i[1])[0][0]) )\n",
    "\n",
    "#     graph embeds using deepwalk\n",
    "\n",
    "    G = nx.Graph()\n",
    "    G.add_edges_from(obj)\n",
    "    graph_embeds_data = []\n",
    "    \n",
    "    if graphembed == 'Deepwalk':\n",
    "\n",
    "        model = DeepWalk()\n",
    "        model.fit(G)\n",
    "        embedding = model.get_embedding()\n",
    "\n",
    "        for i in tqdm(final_edges):\n",
    "            graph_embeds_data.append(np.array([ embedding[np.where(smiles == i[0])[0][0]], \n",
    "                                        embedding[np.where(smiles == i[1])[0][0]], \n",
    "                                        i[2] ]))\n",
    "\n",
    "# graph embeds using node2vec\n",
    "    edge_embeds = []\n",
    "    if graphembed == 'node2vec':\n",
    "        node2vec = Node2Vec(G, dimensions=128, walk_length=30, num_walks=200, workers=4)\n",
    "        model = node2vec.fit(window=10, min_count=1, batch_words=4) \n",
    "        edges_embs = HadamardEmbedder(keyed_vectors=model.wv)\n",
    "        edges_kv = edges_embs.as_keyed_vectors()\n",
    "\n",
    "        for edge in data:\n",
    "            smi1 = np.where(smiles == edge[0])[0][0]\n",
    "            smi2 = np.where(smiles == edge[1])[0][0]\n",
    "            edge_embeds.append(edges_embs[(str(smi1),str(smi2))])\n",
    "\n",
    "\n",
    "#     final data   \n",
    "    data = {}\n",
    "    for i, edge in tqdm(enumerate(final_edges)):\n",
    "        if fingerprint == 'RDKIT':\n",
    "            val = finger_print_data[i][:2]\n",
    "        \n",
    "        if graphembed == 'Deepwalk':\n",
    "            val2 = graph_embeds_data[i][:2]\n",
    "        \n",
    "        if graphembed == 'node2vec':\n",
    "            val2 = edge_embeds[i][:2]\n",
    "            \n",
    "        sample = {'smiles':final_edges[i][:2],\n",
    "                  'fingerprint': val,\n",
    "                  'graphembedding':val2 ,\n",
    "                  'link':final_edges[i][2]}\n",
    "        \n",
    "        data[i] = sample\n",
    "    \n",
    "    return data   "
   ]
  },
  {
   "cell_type": "code",
   "execution_count": 5,
   "id": "849b2202",
   "metadata": {},
   "outputs": [],
   "source": [
    "final_edges = np.load('../datasets/final_edges.dump', allow_pickle=True)"
   ]
  },
  {
   "cell_type": "code",
   "execution_count": 32,
   "id": "7acb730b",
   "metadata": {},
   "outputs": [
    {
     "data": {
      "application/vnd.jupyter.widget-view+json": {
       "model_id": "ee7b0e42841b4d77a19facb85b2de0c4",
       "version_major": 2,
       "version_minor": 0
      },
      "text/plain": [
       "  0%|          | 0/87153 [00:00<?, ?it/s]"
      ]
     },
     "metadata": {},
     "output_type": "display_data"
    },
    {
     "data": {
      "application/vnd.jupyter.widget-view+json": {
       "model_id": "ec7d1a17467b453cb01980f1cdb782da",
       "version_major": 2,
       "version_minor": 0
      },
      "text/plain": [
       "  0%|          | 0/87153 [00:00<?, ?it/s]"
      ]
     },
     "metadata": {},
     "output_type": "display_data"
    },
    {
     "data": {
      "application/vnd.jupyter.widget-view+json": {
       "model_id": "f321f81fddff4cd8abdf9ecfb28078a0",
       "version_major": 2,
       "version_minor": 0
      },
      "text/plain": [
       "  0%|          | 0/87153 [00:00<?, ?it/s]"
      ]
     },
     "metadata": {},
     "output_type": "display_data"
    },
    {
     "name": "stderr",
     "output_type": "stream",
     "text": [
      "/home2/kanakala.ganesh/miniconda3/envs/fast/lib/python3.6/site-packages/ipykernel_launcher.py:40: VisibleDeprecationWarning: Creating an ndarray from ragged nested sequences (which is a list-or-tuple of lists-or-tuples-or ndarrays with different lengths or shapes) is deprecated. If you meant to do this, you must specify 'dtype=object' when creating the ndarray\n"
     ]
    },
    {
     "data": {
      "application/vnd.jupyter.widget-view+json": {
       "model_id": "83d8e6bc3acc485f8fefe0bcd7c433d1",
       "version_major": 2,
       "version_minor": 0
      },
      "text/plain": [
       "0it [00:00, ?it/s]"
      ]
     },
     "metadata": {},
     "output_type": "display_data"
    }
   ],
   "source": [
    "data = generate_fingerprints(final_edges)"
   ]
  },
  {
   "cell_type": "code",
   "execution_count": 41,
   "id": "5ae5d2a7",
   "metadata": {},
   "outputs": [
    {
     "data": {
      "text/plain": [
       "'1'"
      ]
     },
     "execution_count": 41,
     "metadata": {},
     "output_type": "execute_result"
    }
   ],
   "source": [
    "data[0]['link']"
   ]
  },
  {
   "cell_type": "code",
   "execution_count": 45,
   "id": "99bba361",
   "metadata": {},
   "outputs": [],
   "source": [
    "import torch\n",
    "from torch.utils.data import Dataset, DataLoader"
   ]
  },
  {
   "cell_type": "code",
   "execution_count": 107,
   "id": "adc6a734",
   "metadata": {},
   "outputs": [],
   "source": [
    "class LinkDataset(Dataset):\n",
    "    def __init__(self, data, transform=None):\n",
    "        self.data = data\n",
    "        \n",
    "    def __len__(self):\n",
    "        return len(self.data)\n",
    "    \n",
    "    def __getitem__(self, idx):\n",
    "        item = self.data[idx]\n",
    "        fingerprints = np.concatenate((item['fingerprint'][0], item['fingerprint'][1]), axis = 0)\n",
    "        graphembeds = np.concatenate((item['graphembedding'][0], item['graphembedding'][1]), axis = 0)\n",
    "        label = int(item['link'])\n",
    "        fp, ge= torch.tensor(fingerprints.astype(float)), torch.tensor(graphembeds.astype(float))\n",
    "        l= torch.zeros(2)\n",
    "        l[label] = 1\n",
    "        return fp.unsqueeze(0), ge.unsqueeze(0), l"
   ]
  },
  {
   "cell_type": "code",
   "execution_count": 108,
   "id": "5c3184b1",
   "metadata": {},
   "outputs": [],
   "source": [
    "dataset = LinkDataset(data)\n",
    "dataloader = DataLoader(dataset, num_workers = 4, batch_size=32)"
   ]
  },
  {
   "cell_type": "code",
   "execution_count": 109,
   "id": "74286ac6",
   "metadata": {},
   "outputs": [
    {
     "name": "stdout",
     "output_type": "stream",
     "text": [
      "torch.Size([32, 1, 1024])\n",
      "torch.Size([32, 1, 256])\n",
      "torch.Size([32, 2])\n"
     ]
    }
   ],
   "source": [
    "for fp, ge, label in dataloader:\n",
    "    print(fp.shape)\n",
    "    print(ge.shape)\n",
    "    print(label.shape)\n",
    "    break"
   ]
  },
  {
   "cell_type": "code",
   "execution_count": null,
   "id": "b3234860",
   "metadata": {},
   "outputs": [],
   "source": []
  },
  {
   "cell_type": "code",
   "execution_count": null,
   "id": "c7a2aa1c",
   "metadata": {},
   "outputs": [],
   "source": []
  }
 ],
 "metadata": {
  "kernelspec": {
   "display_name": "Python 3",
   "language": "python",
   "name": "python3"
  },
  "language_info": {
   "codemirror_mode": {
    "name": "ipython",
    "version": 3
   },
   "file_extension": ".py",
   "mimetype": "text/x-python",
   "name": "python",
   "nbconvert_exporter": "python",
   "pygments_lexer": "ipython3",
   "version": "3.6.13"
  }
 },
 "nbformat": 4,
 "nbformat_minor": 5
}
