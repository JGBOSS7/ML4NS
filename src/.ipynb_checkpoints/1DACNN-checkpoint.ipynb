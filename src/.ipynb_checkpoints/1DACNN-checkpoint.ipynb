{
 "cells": [
  {
   "cell_type": "code",
   "execution_count": 1,
   "id": "26f4385d",
   "metadata": {},
   "outputs": [],
   "source": [
    "import numpy as np\n",
    "from collections import Counter\n",
    "from tqdm import tqdm\n",
    "from matplotlib import pyplot as plt\n",
    "from sklearn.metrics import classification_report \n",
    "\n",
    "import torch\n",
    "import torch.nn as nn\n",
    "import torch.optim as optim\n",
    "import torch.nn.functional as F\n",
    "from torch.utils.data import Dataset, DataLoader"
   ]
  },
  {
   "cell_type": "code",
   "execution_count": 2,
   "id": "0b3aa179",
   "metadata": {},
   "outputs": [],
   "source": [
    "\n",
    "\n",
    "class MyDataset(Dataset):\n",
    "    def __init__(self, data, label):\n",
    "        self.data = data\n",
    "        self.label = label\n",
    "\n",
    "    def __getitem__(self, index):\n",
    "        return (torch.tensor(self.data[index], dtype=torch.float), torch.tensor(self.label[index], dtype=torch.long))\n",
    "\n",
    "    def __len__(self):\n",
    "        return len(self.data)\n"
   ]
  },
  {
   "cell_type": "code",
   "execution_count": 8,
   "id": "9450c205",
   "metadata": {},
   "outputs": [],
   "source": [
    "\n",
    "class ACNN(nn.Module):\n",
    "    \"\"\"\n",
    "    \n",
    "    Input:\n",
    "        X: (n_samples, n_channel, n_length)\n",
    "        Y: (n_samples)\n",
    "        \n",
    "    Output:\n",
    "        out: (n_samples)\n",
    "        \n",
    "    Pararmetes:\n",
    "        n_classes: number of classes\n",
    "        \n",
    "    \"\"\"\n",
    "\n",
    "    def __init__(self, in_channels, out_channels, att_channels, n_len_seg, n_classes, device, verbose=False):\n",
    "        super(ACNN, self).__init__()\n",
    "        \n",
    "        self.n_len_seg = n_len_seg\n",
    "        self.n_classes = n_classes\n",
    "        self.in_channels = in_channels\n",
    "        self.out_channels = out_channels\n",
    "        self.att_channels = att_channels\n",
    "\n",
    "        self.device = device\n",
    "        self.verbose = verbose\n",
    "\n",
    "        # (batch, channels, length)\n",
    "        self.cnn = nn.Conv1d(in_channels=self.in_channels, \n",
    "                            out_channels=self.out_channels, \n",
    "                            kernel_size=16, \n",
    "                            stride=4)\n",
    "\n",
    "        self.W_att_channel = nn.Parameter(torch.randn(self.out_channels, self.att_channels))\n",
    "        self.v_att_channel = nn.Parameter(torch.randn(self.att_channels, 1))\n",
    "\n",
    "        self.dense = nn.Linear(out_channels, n_classes)\n",
    "        self.softmax = nn.Softmax(dim=1)\n",
    "    def forward(self, x):\n",
    "\n",
    "        self.n_channel, self.n_length = x.shape[-2], x.shape[-1]\n",
    "        assert (self.n_length % self.n_len_seg == 0), \"Input n_length should divided by n_len_seg\"\n",
    "        self.n_seg = self.n_length // self.n_len_seg\n",
    "\n",
    "        out = x\n",
    "        if self.verbose:\n",
    "            print(out.shape)\n",
    "\n",
    "        # (n_samples, n_channel, n_length) -> (n_samples, n_length, n_channel)\n",
    "        out = out.permute(0,2,1)\n",
    "        if self.verbose:\n",
    "            print(out.shape)\n",
    "        # (n_samples, n_length, n_channel) -> (n_samples*n_seg, n_len_seg, n_channel)\n",
    "        out = out.view(-1, self.n_len_seg, self.n_channel)\n",
    "        if self.verbose:\n",
    "            print(out.shape)\n",
    "        # (n_samples*n_seg, n_len_seg, n_channel) -> (n_samples*n_seg, n_channel, n_len_seg)\n",
    "        out = out.permute(0,2,1)\n",
    "        if self.verbose:\n",
    "            print(out.shape)\n",
    "        # cnn\n",
    "        out = self.cnn(out)\n",
    "        if self.verbose:\n",
    "            print(out.shape)\n",
    "        # global avg, (n_samples*n_seg, out_channels)\n",
    "        out = out.mean(-1)\n",
    "        if self.verbose:\n",
    "            print(out.shape)\n",
    "        # global avg, (n_samples, n_seg, out_channels)\n",
    "        out = out.view(-1, self.n_seg, self.out_channels)\n",
    "        if self.verbose:\n",
    "            print(out.shape)\n",
    "        # self attention\n",
    "        e = torch.matmul(out, self.W_att_channel)\n",
    "        e = torch.matmul(torch.tanh(e), self.v_att_channel)\n",
    "        n1 = torch.exp(e)\n",
    "        n2 = torch.sum(torch.exp(e), 1, keepdim=True)\n",
    "        gama = torch.div(n1, n2)\n",
    "        out = torch.sum(torch.mul(gama, out), 1)\n",
    "        if self.verbose:\n",
    "            print(out.shape)\n",
    "        # dense\n",
    "        out = self.dense(out)\n",
    "        if self.verbose:\n",
    "            print(out.shape)\n",
    "        out = self.softmax(out)\n",
    "        return out"
   ]
  },
  {
   "cell_type": "code",
   "execution_count": 9,
   "id": "c16ab8dc",
   "metadata": {},
   "outputs": [],
   "source": [
    "Net = ACNN(1,10,10,1024,2,torch.cuda.device)"
   ]
  },
  {
   "cell_type": "code",
   "execution_count": 10,
   "id": "02f8d0aa",
   "metadata": {},
   "outputs": [],
   "source": [
    "inp = torch.rand(20, 1, 1024)"
   ]
  },
  {
   "cell_type": "code",
   "execution_count": 12,
   "id": "5713fc57",
   "metadata": {},
   "outputs": [
    {
     "data": {
      "text/plain": [
       "ACNN(\n",
       "  (cnn): Conv1d(1, 10, kernel_size=(16,), stride=(4,))\n",
       "  (dense): Linear(in_features=10, out_features=2, bias=True)\n",
       "  (softmax): Softmax(dim=1)\n",
       ")"
      ]
     },
     "execution_count": 12,
     "metadata": {},
     "output_type": "execute_result"
    }
   ],
   "source": [
    "Net.eval()"
   ]
  },
  {
   "cell_type": "code",
   "execution_count": 11,
   "id": "1fbe39e2",
   "metadata": {},
   "outputs": [
    {
     "data": {
      "text/plain": [
       "tensor([[0.5112, 0.4888],\n",
       "        [0.5118, 0.4882],\n",
       "        [0.5134, 0.4866],\n",
       "        [0.5087, 0.4913],\n",
       "        [0.5082, 0.4918],\n",
       "        [0.5086, 0.4914],\n",
       "        [0.5100, 0.4900],\n",
       "        [0.5102, 0.4898],\n",
       "        [0.5091, 0.4909],\n",
       "        [0.5097, 0.4903],\n",
       "        [0.5090, 0.4910],\n",
       "        [0.5096, 0.4904],\n",
       "        [0.5121, 0.4879],\n",
       "        [0.5120, 0.4880],\n",
       "        [0.5110, 0.4890],\n",
       "        [0.5090, 0.4910],\n",
       "        [0.5105, 0.4895],\n",
       "        [0.5082, 0.4918],\n",
       "        [0.5105, 0.4895],\n",
       "        [0.5120, 0.4880]], grad_fn=<SoftmaxBackward0>)"
      ]
     },
     "execution_count": 11,
     "metadata": {},
     "output_type": "execute_result"
    }
   ],
   "source": [
    "Net(inp)"
   ]
  },
  {
   "cell_type": "code",
   "execution_count": null,
   "id": "f3a4b542",
   "metadata": {},
   "outputs": [],
   "source": []
  },
  {
   "cell_type": "code",
   "execution_count": null,
   "id": "d96a4545",
   "metadata": {},
   "outputs": [],
   "source": []
  }
 ],
 "metadata": {
  "kernelspec": {
   "display_name": "Python 3",
   "language": "python",
   "name": "python3"
  },
  "language_info": {
   "codemirror_mode": {
    "name": "ipython",
    "version": 3
   },
   "file_extension": ".py",
   "mimetype": "text/x-python",
   "name": "python",
   "nbconvert_exporter": "python",
   "pygments_lexer": "ipython3",
   "version": "3.6.13"
  }
 },
 "nbformat": 4,
 "nbformat_minor": 5
}
