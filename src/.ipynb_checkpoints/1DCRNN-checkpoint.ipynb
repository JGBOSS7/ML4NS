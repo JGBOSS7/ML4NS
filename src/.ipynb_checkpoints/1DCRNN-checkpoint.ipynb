{
 "cells": [
  {
   "cell_type": "code",
   "execution_count": 41,
   "id": "533d53e4",
   "metadata": {},
   "outputs": [],
   "source": [
    "import numpy as np\n",
    "from collections import Counter\n",
    "from tqdm import tqdm\n",
    "from matplotlib import pyplot as plt\n",
    "from sklearn.metrics import classification_report \n",
    "from create_datasets import *\n",
    "\n",
    "import torch\n",
    "import torch.nn as nn\n",
    "import torch.optim as optim\n",
    "import torch.nn.functional as F\n",
    "from torch.utils.data import Dataset, DataLoader\n",
    "\n",
    "class MyDataset(Dataset):\n",
    "    def __init__(self, data, label):\n",
    "        self.data = data\n",
    "        self.label = label\n",
    "    def __getitem__(self, index):\n",
    "        return (torch.tensor(self.data[index], dtype=torch.float), torch.tensor(self.label[index], dtype=torch.long))\n",
    "    def __len__(self):\n",
    "        return len(self.data)\n",
    "    "
   ]
  },
  {
   "cell_type": "code",
   "execution_count": 42,
   "id": "3b6512de",
   "metadata": {},
   "outputs": [],
   "source": [
    "class CRNN(nn.Module):\n",
    "\n",
    "    def __init__(self, in_channels, out_channels, n_len_seg, n_classes, device, verbose=False):\n",
    "        super(CRNN, self).__init__()\n",
    "        \n",
    "        self.n_len_seg = n_len_seg\n",
    "        self.n_classes = n_classes\n",
    "        self.in_channels = in_channels\n",
    "        self.out_channels = out_channels\n",
    "\n",
    "        self.device = device\n",
    "        self.verbose = verbose\n",
    "\n",
    "        # (batch, channels, length)\n",
    "        self.cnn = nn.Conv1d(in_channels=self.in_channels, \n",
    "                            out_channels=self.out_channels, \n",
    "                            kernel_size=16, \n",
    "                            stride=2)\n",
    "        # (batch, seq, feature)\n",
    "        self.rnn = nn.LSTM(input_size=(self.out_channels), \n",
    "                            hidden_size=self.out_channels, \n",
    "                            num_layers=1, \n",
    "                            batch_first=True, \n",
    "                            bidirectional=False)\n",
    "        self.dense1 = nn.Linear(out_channels, 128)\n",
    "        self.dense2 = nn.Linear(128, n_classes)\n",
    "        self.softmax = nn.Softmax(dim=1)\n",
    "        \n",
    "    def forward(self, x):\n",
    "\n",
    "        self.n_channel, self.n_length = x.shape[-2], x.shape[-1]\n",
    "        self.n_seg = self.n_length // self.n_len_seg\n",
    "        out = x\n",
    "        out = out.permute(0,2,1)\n",
    "        out = out.view(-1, self.n_len_seg, self.n_channel)\n",
    "        out = out.permute(0,2,1)\n",
    "        out = self.cnn(out)\n",
    "        out = out.mean(-1)\n",
    "        out = out.view(-1, self.n_seg, self.out_channels)\n",
    "        _, (out, _) = self.rnn(out)\n",
    "        out = torch.squeeze(out, dim=0)\n",
    "        out = self.dense1(out)\n",
    "        out = self.dense2(out)\n",
    "        out = self.softmax(out)\n",
    "        return out"
   ]
  },
  {
   "cell_type": "code",
   "execution_count": 43,
   "id": "5d4aa2d2",
   "metadata": {},
   "outputs": [],
   "source": [
    "Net = CRNN(1,256,1024,256, torch.cuda.device, verbose=True)"
   ]
  },
  {
   "cell_type": "code",
   "execution_count": 44,
   "id": "8c0e787b",
   "metadata": {},
   "outputs": [],
   "source": [
    "class FullNet(nn.Module):\n",
    "    def __init__(self, finger_print_model, graph_embedding_model, combined_model):\n",
    "        super().__init__()\n",
    "        self.FP_model = finger_print_model\n",
    "        self.GE_model = graph_embedding_model\n",
    "        self.CB_model = combined_model\n",
    "    \n",
    "    def forward(self, fp, ge):\n",
    "        fp_out = self.FP_model(fp)\n",
    "        ge_out = self.GE_model(ge)\n",
    "        inp = torch.cat((fp_out, ge_out), 1)\n",
    "        inp = inp.unsqueeze(1)\n",
    "        out = self.CB_model(inp)\n",
    "        return out"
   ]
  },
  {
   "cell_type": "code",
   "execution_count": 45,
   "id": "cc20b0bb",
   "metadata": {},
   "outputs": [],
   "source": [
    "model = FullNet(CRNN(1,512,1024,256, 'cpu'), \n",
    "                CRNN(1,128,256,256, 'cpu'), \n",
    "                CRNN(1,256,512,2,'cpu'))"
   ]
  },
  {
   "cell_type": "code",
   "execution_count": 46,
   "id": "f35970c5",
   "metadata": {},
   "outputs": [
    {
     "name": "stdout",
     "output_type": "stream",
     "text": [
      "+---------------------------+------------+\n",
      "|          Modules          | Parameters |\n",
      "+---------------------------+------------+\n",
      "|    FP_model.cnn.weight    |    8192    |\n",
      "|     FP_model.cnn.bias     |    512     |\n",
      "| FP_model.rnn.weight_ih_l0 |  1048576   |\n",
      "| FP_model.rnn.weight_hh_l0 |  1048576   |\n",
      "|  FP_model.rnn.bias_ih_l0  |    2048    |\n",
      "|  FP_model.rnn.bias_hh_l0  |    2048    |\n",
      "|   FP_model.dense1.weight  |   65536    |\n",
      "|    FP_model.dense1.bias   |    128     |\n",
      "|   FP_model.dense2.weight  |   32768    |\n",
      "|    FP_model.dense2.bias   |    256     |\n",
      "|    GE_model.cnn.weight    |    2048    |\n",
      "|     GE_model.cnn.bias     |    128     |\n",
      "| GE_model.rnn.weight_ih_l0 |   65536    |\n",
      "| GE_model.rnn.weight_hh_l0 |   65536    |\n",
      "|  GE_model.rnn.bias_ih_l0  |    512     |\n",
      "|  GE_model.rnn.bias_hh_l0  |    512     |\n",
      "|   GE_model.dense1.weight  |   16384    |\n",
      "|    GE_model.dense1.bias   |    128     |\n",
      "|   GE_model.dense2.weight  |   32768    |\n",
      "|    GE_model.dense2.bias   |    256     |\n",
      "|    CB_model.cnn.weight    |    4096    |\n",
      "|     CB_model.cnn.bias     |    256     |\n",
      "| CB_model.rnn.weight_ih_l0 |   262144   |\n",
      "| CB_model.rnn.weight_hh_l0 |   262144   |\n",
      "|  CB_model.rnn.bias_ih_l0  |    1024    |\n",
      "|  CB_model.rnn.bias_hh_l0  |    1024    |\n",
      "|   CB_model.dense1.weight  |   32768    |\n",
      "|    CB_model.dense1.bias   |    128     |\n",
      "|   CB_model.dense2.weight  |    256     |\n",
      "|    CB_model.dense2.bias   |     2      |\n",
      "+---------------------------+------------+\n",
      "Total Trainable Params: 2956290\n"
     ]
    },
    {
     "data": {
      "text/plain": [
       "2956290"
      ]
     },
     "execution_count": 46,
     "metadata": {},
     "output_type": "execute_result"
    }
   ],
   "source": [
    "from prettytable import PrettyTable\n",
    "\n",
    "def count_parameters(model):\n",
    "    table = PrettyTable([\"Modules\", \"Parameters\"])\n",
    "    total_params = 0\n",
    "    for name, parameter in model.named_parameters():\n",
    "        if not parameter.requires_grad: continue\n",
    "        params = parameter.numel()\n",
    "        table.add_row([name, params])\n",
    "        total_params+=params\n",
    "    print(table)\n",
    "    print(f\"Total Trainable Params: {total_params}\")\n",
    "    return total_params\n",
    "    \n",
    "count_parameters(model)"
   ]
  },
  {
   "cell_type": "code",
   "execution_count": 47,
   "id": "6e2b0811",
   "metadata": {},
   "outputs": [],
   "source": [
    "final_edges = np.load('../datasets/final_edges.dump', allow_pickle=True)"
   ]
  },
  {
   "cell_type": "code",
   "execution_count": null,
   "id": "71c6aa99",
   "metadata": {},
   "outputs": [
    {
     "data": {
      "application/vnd.jupyter.widget-view+json": {
       "model_id": "5509aa9b6dd849ed84ab523d436ab9e7",
       "version_major": 2,
       "version_minor": 0
      },
      "text/plain": [
       "  0%|          | 0/87153 [00:00<?, ?it/s]"
      ]
     },
     "metadata": {},
     "output_type": "display_data"
    }
   ],
   "source": [
    "data = generate_fingerprints(final_edges)"
   ]
  },
  {
   "cell_type": "code",
   "execution_count": null,
   "id": "0c7e3b3c",
   "metadata": {},
   "outputs": [],
   "source": [
    "dataset = LinkDataset(data)\n",
    "train_size = int(0.8 * len(dataset))\n",
    "test_size = len(dataset) - train_size\n",
    "train , test = torch.utils.data.random_split(dataset, [train_size, test_size])\n",
    "BATCH_SIZE = 256\n",
    "trainloader = DataLoader(train, num_workers = 12, batch_size= BATCH_SIZE)\n",
    "testloader = DataLoader(test, num_workers = 12, batch_size= BATCH_SIZE)"
   ]
  },
  {
   "cell_type": "code",
   "execution_count": null,
   "id": "07e24b1b",
   "metadata": {},
   "outputs": [],
   "source": [
    "def eval(model,testloader):\n",
    "    model.eval()\n",
    "    test_loss = 0.0\n",
    "    for fp, ge, label in testloader:\n",
    "        output = model(fp.float(),ge.float())\n",
    "        loss = criterion(output, label)\n",
    "        test_loss+=loss.item()\n",
    "#     print(test_loss / len(testloader))\n",
    "    return test_loss / len(testloader)"
   ]
  },
  {
   "cell_type": "code",
   "execution_count": null,
   "id": "762f2932",
   "metadata": {},
   "outputs": [],
   "source": [
    "train_losses = []\n",
    "test_losses = []\n",
    "num_epochs= 50\n",
    "for epoch in tqdm(range(1, num_epochs)):\n",
    "    train_loss = 0.0\n",
    "    model.train()\n",
    "    batch_id = 0\n",
    "    for fp, ge, label in trainloader:\n",
    "        batch_id +=1\n",
    "        \n",
    "        optimizer.zero_grad()\n",
    "        output = model(fp.float(),ge.float())\n",
    "        loss = criterion(output, label)\n",
    "        loss.backward()\n",
    "        optimizer.step()\n",
    "        train_loss += loss.item() \n",
    "    \n",
    "        print(f'Epoch:{epoch} batch {batch_id}/{len(trainloader)} loss:{loss.item()}', end='\\r')\n",
    "    \n",
    "    test_loss = eval(model, testloader)\n",
    "    print(\"Train loss:\",train_loss/len(trainloader),\"Test loss :\",test_loss)\n",
    "    print()\n",
    "    train_losses.append(train_loss/len(trainloader))\n",
    "    test_losses.append(test_loss)"
   ]
  }
 ],
 "metadata": {
  "kernelspec": {
   "display_name": "Python 3",
   "language": "python",
   "name": "python3"
  },
  "language_info": {
   "codemirror_mode": {
    "name": "ipython",
    "version": 3
   },
   "file_extension": ".py",
   "mimetype": "text/x-python",
   "name": "python",
   "nbconvert_exporter": "python",
   "pygments_lexer": "ipython3",
   "version": "3.6.13"
  }
 },
 "nbformat": 4,
 "nbformat_minor": 5
}
