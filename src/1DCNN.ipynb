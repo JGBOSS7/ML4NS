{
 "cells": [
  {
   "cell_type": "code",
   "execution_count": 5,
   "id": "db3f9f0c",
   "metadata": {},
   "outputs": [],
   "source": [
    "import torch\n",
    "import torch.nn as nn\n",
    "\n",
    "\n",
    "class Net1D(nn.Module):\n",
    "    def __init__(self):\n",
    "        super(Net1D,self).__init__()\n",
    "\n",
    "        self.conv1 = nn.Conv1d(1, 8,kernel_size=3, stride=1)\n",
    "        self.bn1 = nn.BatchNorm1d(8)\n",
    "        self.relu = nn.ReLU()\n",
    "        self.maxpool = nn.MaxPool1d(kernel_size=3, stride=2)\n",
    "\n",
    "        self.conv2 = nn.Conv1d(8, 16,kernel_size=3, stride=1)\n",
    "        self.bn2 = nn.BatchNorm1d(16)\n",
    "        self.conv3 = nn.Conv1d(16,64,kernel_size=3, stride=1)\n",
    "        self.gap = nn.AdaptiveAvgPool1d(1)\n",
    "        self.fc = nn.Linear(64,2)\n",
    "\n",
    "\n",
    "    def forward(self,x):\n",
    "\n",
    "        x = self.conv1(x)\n",
    "        x = self.bn1(x)\n",
    "        x = self.relu(x)\n",
    "        x = self.maxpool(x)\n",
    "\n",
    "        x = self.conv2(x)\n",
    "        x = self.bn2(x)\n",
    "        x = self.relu(x)\n",
    "        x = self.maxpool(x)\n",
    "\n",
    "        x = self.conv3(x)\n",
    "        x = self.gap(x)\n",
    "        x = x.view(x.size(0),-1)\n",
    "        x = self.fc(x)\n",
    " \n",
    "        return x"
   ]
  },
  {
   "cell_type": "code",
   "execution_count": 8,
   "id": "be136cdf",
   "metadata": {},
   "outputs": [
    {
     "name": "stdout",
     "output_type": "stream",
     "text": [
      "torch.Size([8, 2])\n"
     ]
    }
   ],
   "source": [
    "model = Net1D()\n",
    "in_data = torch.randn(8,1,50)\n",
    "out_data = model(in_data)\n",
    "print(out_data.size())"
   ]
  },
  {
   "cell_type": "code",
   "execution_count": 11,
   "id": "438cd0eb",
   "metadata": {},
   "outputs": [
    {
     "data": {
      "text/plain": [
       "torch.Size([8, 1, 50])"
      ]
     },
     "execution_count": 11,
     "metadata": {},
     "output_type": "execute_result"
    }
   ],
   "source": [
    "in_data.size()"
   ]
  },
  {
   "cell_type": "code",
   "execution_count": null,
   "id": "496777de",
   "metadata": {},
   "outputs": [],
   "source": []
  }
 ],
 "metadata": {
  "kernelspec": {
   "display_name": "Python 3",
   "language": "python",
   "name": "python3"
  },
  "language_info": {
   "codemirror_mode": {
    "name": "ipython",
    "version": 3
   },
   "file_extension": ".py",
   "mimetype": "text/x-python",
   "name": "python",
   "nbconvert_exporter": "python",
   "pygments_lexer": "ipython3",
   "version": "3.6.13"
  }
 },
 "nbformat": 4,
 "nbformat_minor": 5
}
